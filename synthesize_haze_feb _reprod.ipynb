{
 "cells": [
  {
   "cell_type": "markdown",
   "id": "14960f44",
   "metadata": {},
   "source": [
    " # inspired by a method for depth generation via monodepth "
   ]
  },
  {
   "cell_type": "code",
   "execution_count": 2,
   "id": "c5e4bfef",
   "metadata": {},
   "outputs": [],
   "source": [
    "import os\n",
    "import cv2\n",
    "import numpy as np\n",
    "import matplotlib.pyplot as plt"
   ]
  },
  {
   "cell_type": "code",
   "execution_count": 3,
   "id": "01c8863c",
   "metadata": {},
   "outputs": [],
   "source": [
    "def get_file_name(path):\n",
    "    basename = os.path.basename(path)\n",
    "    onlyname = os.path.splitext(basename)[0]\n",
    "    return onlyname\n",
    "\n",
    "def gen_haze(img, depth_img):\n",
    "    \n",
    "    depth_img_3c = np.zeros_like(img)\n",
    "    depth_img_3c[:,:,0] = depth_img\n",
    "    depth_img_3c[:,:,1] = depth_img\n",
    "    depth_img_3c[:,:,2] = depth_img\n",
    "\n",
    "    beta = random.randint(100,150)/100\n",
    "    norm_depth_img = depth_img_3c/255\n",
    "    trans = np.exp(-norm_depth_img*beta)\n",
    "\n",
    "    A = 255\n",
    "    hazy = img*trans + A*(1-trans)\n",
    "    hazy = np.array(hazy, dtype=np.uint8)\n",
    "    \n",
    "    return hazy"
   ]
  },
  {
   "cell_type": "code",
   "execution_count": null,
   "id": "9d15712d",
   "metadata": {},
   "outputs": [],
   "source": [
    "path = f\"image_path/{file_name}\"\n",
    "\n",
    "print(file_name)\n",
    "\n",
    "img = plt.imread(path)\n",
    "\n",
    "depth_path = f\"data/{file_name}_depth.jpg\"\n",
    "depth_img = plt.imread(depth_path)\n",
    "\n",
    "depth_img_3c = np.zeros_like(img)\n",
    "depth_img_3c[:,:,0] = depth_img\n",
    "depth_img_3c[:,:,1] = depth_img\n",
    "depth_img_3c[:,:,2] = depth_img\n",
    "\n",
    "beta=0.95\n",
    "norm_depth_img = depth_img_3c/255\n",
    "trans = np.exp(-norm_depth_img*beta)\n",
    "\n",
    "beta2=3.0\n",
    "trans2 = np.exp(-norm_depth_img*beta2)\n",
    "\n",
    "A = 255\n",
    "hazy = img*trans + A*(1-trans)\n",
    "hazy = np.array(hazy, dtype=np.uint8)\n",
    "\n",
    "hazy2 = img*trans2 + A*(1-trans2)\n",
    "hazy2 = np.array(hazy2, dtype=np.uint8)\n",
    "\n",
    "plt.figure(figsize=(16,18))\n",
    "plt.subplot(321), plt.imshow(img)\n",
    "plt.subplot(322), plt.imshow(depth_img, cmap=\"gray\")\n",
    "plt.subplot(323), plt.imshow(trans, cmap=\"gray\")\n",
    "plt.subplot(324), plt.imshow(hazy)\n",
    "plt.subplot(325), plt.imshow(trans2, cmap=\"gray\")\n",
    "plt.subplot(326), plt.imshow(hazy2)\n",
    "plt.show()"
   ]
  }
 ],
 "metadata": {
  "kernelspec": {
   "display_name": "Python 3 (ipykernel)",
   "language": "python",
   "name": "python3"
  },
  "language_info": {
   "codemirror_mode": {
    "name": "ipython",
    "version": 3
   },
   "file_extension": ".py",
   "mimetype": "text/x-python",
   "name": "python",
   "nbconvert_exporter": "python",
   "pygments_lexer": "ipython3",
   "version": "3.9.13"
  }
 },
 "nbformat": 4,
 "nbformat_minor": 5
}
